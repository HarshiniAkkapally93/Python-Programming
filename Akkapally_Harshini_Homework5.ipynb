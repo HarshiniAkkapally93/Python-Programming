{
 "cells": [
  {
   "cell_type": "markdown",
   "id": "5ba63aa4",
   "metadata": {},
   "source": [
    "## DATA 690 Homework 5 (50 points - Due on Sunday, October 16, 2022 by 11:00 pm ET)\n",
    "\n",
    "The output of this assignment for submission should be in PDF format **AND** .py or .ipynb. The name of the file should be as follows: Lastname_Firstname_Homework5.pdf (example: Thomas_Sunela_Homework5.pdf) **AND** Lastname_Firstname_Homework5.ipynb (example: Thomas_Sunela_Assignment5.ipynb. In short, you are submitting the python notebook as well as the pdf of that notebook. Do **NOT** submit .html file, the system will give you an error.\n",
    "\n",
    "    \n",
    "Incorrect file name will cost you points!<br>\n",
    "\n",
    "Instructions for converting a Jupyter Python notebook to PDF: Go to the menu and choose, File --> Download As --> html. Open that html file and print it to PDF. Submit the PDF file **NOT** the html file.\n",
    "\n",
    "If you are using Google Colab, remember to review the PDF before submitting to ensure that all cells and answers are displayed in the PDF.\n",
    "\n",
    "**Things to note:**\n",
    "\n",
    "* Each cell should display an output\n",
    "* Use both Markdown and code comments in the Jupyter Notebook as needed"
   ]
  },
  {
   "cell_type": "markdown",
   "id": "79f23797",
   "metadata": {},
   "source": [
    "# `tips`\n",
    "\n",
    "Food servers' tips in restaurants may be influenced by many factors, including the nature of the restaurant, size of the party, and table locations in the restaurant. Restaurant managers need to know which factors matter when they assign tables to food servers. For the sake of staff morale, they usually want to avoid either the substance or the appearance of unfair treatment of the servers, for whom tips (at least in restaurants in the United States) are a major component of pay.\n",
    "\n",
    "In one restaurant, a food server recorded the following data on all customers they served during an interval of two and a half months in early 1990. The restaurant, located in a suburban shopping mall, was part of a national chain and served a varied menu. In observance of local law the restaurant offered seating in a non-smoking section to patrons who requested it. Each record includes a day and time, and taken together, they show the server’s work schedule\n",
    "\n",
    "|Variable Name | Variable Meaning |\n",
    "|---  |---                 |\n",
    "| total_bill | Total bill (cost of the meal), including tax, in US dollars |\n",
    "| tip | Tip (gratuity) in US dollars |\n",
    "| sex | Sex of person paying for the meal (0=male, 1=female) |\n",
    "| smoker | Smoker in party? (0=No, 1=Yes) |\n",
    "| day | Day of Week (4=Thur, 5=Fri, 6=Sat, 7=Sun) |\n",
    "| time | Dinner, Lunch |\n",
    "|size  | Size of the party |"
   ]
  },
  {
   "cell_type": "code",
   "execution_count": 1,
   "id": "56edb391",
   "metadata": {},
   "outputs": [
    {
     "data": {
      "text/html": [
       "<div>\n",
       "<style scoped>\n",
       "    .dataframe tbody tr th:only-of-type {\n",
       "        vertical-align: middle;\n",
       "    }\n",
       "\n",
       "    .dataframe tbody tr th {\n",
       "        vertical-align: top;\n",
       "    }\n",
       "\n",
       "    .dataframe thead th {\n",
       "        text-align: right;\n",
       "    }\n",
       "</style>\n",
       "<table border=\"1\" class=\"dataframe\">\n",
       "  <thead>\n",
       "    <tr style=\"text-align: right;\">\n",
       "      <th></th>\n",
       "      <th>total_bill</th>\n",
       "      <th>tip</th>\n",
       "      <th>sex</th>\n",
       "      <th>smoker</th>\n",
       "      <th>day</th>\n",
       "      <th>time</th>\n",
       "      <th>size</th>\n",
       "      <th>tip_percent</th>\n",
       "    </tr>\n",
       "  </thead>\n",
       "  <tbody>\n",
       "    <tr>\n",
       "      <th>0</th>\n",
       "      <td>16.99</td>\n",
       "      <td>1.01</td>\n",
       "      <td>Male</td>\n",
       "      <td>No</td>\n",
       "      <td>Sun</td>\n",
       "      <td>Dinner</td>\n",
       "      <td>2</td>\n",
       "      <td>0.059447</td>\n",
       "    </tr>\n",
       "    <tr>\n",
       "      <th>1</th>\n",
       "      <td>10.34</td>\n",
       "      <td>1.66</td>\n",
       "      <td>Female</td>\n",
       "      <td>No</td>\n",
       "      <td>Sun</td>\n",
       "      <td>Dinner</td>\n",
       "      <td>3</td>\n",
       "      <td>0.160542</td>\n",
       "    </tr>\n",
       "    <tr>\n",
       "      <th>2</th>\n",
       "      <td>21.01</td>\n",
       "      <td>3.50</td>\n",
       "      <td>Female</td>\n",
       "      <td>No</td>\n",
       "      <td>Sun</td>\n",
       "      <td>Dinner</td>\n",
       "      <td>3</td>\n",
       "      <td>0.166587</td>\n",
       "    </tr>\n",
       "    <tr>\n",
       "      <th>3</th>\n",
       "      <td>23.68</td>\n",
       "      <td>3.31</td>\n",
       "      <td>Female</td>\n",
       "      <td>No</td>\n",
       "      <td>Sun</td>\n",
       "      <td>Dinner</td>\n",
       "      <td>2</td>\n",
       "      <td>0.139780</td>\n",
       "    </tr>\n",
       "    <tr>\n",
       "      <th>4</th>\n",
       "      <td>24.59</td>\n",
       "      <td>3.61</td>\n",
       "      <td>Male</td>\n",
       "      <td>No</td>\n",
       "      <td>Sun</td>\n",
       "      <td>Dinner</td>\n",
       "      <td>4</td>\n",
       "      <td>0.146808</td>\n",
       "    </tr>\n",
       "  </tbody>\n",
       "</table>\n",
       "</div>"
      ],
      "text/plain": [
       "   total_bill   tip     sex smoker  day    time  size  tip_percent\n",
       "0       16.99  1.01    Male     No  Sun  Dinner     2     0.059447\n",
       "1       10.34  1.66  Female     No  Sun  Dinner     3     0.160542\n",
       "2       21.01  3.50  Female     No  Sun  Dinner     3     0.166587\n",
       "3       23.68  3.31  Female     No  Sun  Dinner     2     0.139780\n",
       "4       24.59  3.61    Male     No  Sun  Dinner     4     0.146808"
      ]
     },
     "execution_count": 1,
     "metadata": {},
     "output_type": "execute_result"
    }
   ],
   "source": [
    "# Import necessary libraries, and modify DataFrame for convenience\n",
    "import pandas as pd\n",
    "\n",
    "tips = pd.read_csv('tips.csv')\n",
    "tips['day'].replace({4:'Thur', 5:'Fri', 6:'Sat', 7:'Sun'}, inplace = True)\n",
    "tips['smoker'].replace({0:'No', 1:'Yes'}, inplace = True)\n",
    "tips['sex'].replace({0:'Male', 1:'Female'}, inplace = True)\n",
    "tips['tip_percent'] = tips['tip'] / tips['total_bill']\n",
    "tips.head()"
   ]
  },
  {
   "cell_type": "markdown",
   "id": "0b935c35",
   "metadata": {},
   "source": [
    "### Exercise 1: (5 points)\n",
    "<span  style=\"color:purple; font-size:16px\">On which day of the week does the waiter serve the largest parties, on average? There are several ways to answer this question. Try to find at least two different solutions.</span>\n"
   ]
  },
  {
   "cell_type": "code",
   "execution_count": 22,
   "id": "4faab8ee",
   "metadata": {},
   "outputs": [
    {
     "name": "stdout",
     "output_type": "stream",
     "text": [
      "The Day of the week with largest parties on average:\n"
     ]
    },
    {
     "data": {
      "text/html": [
       "<div>\n",
       "<style scoped>\n",
       "    .dataframe tbody tr th:only-of-type {\n",
       "        vertical-align: middle;\n",
       "    }\n",
       "\n",
       "    .dataframe tbody tr th {\n",
       "        vertical-align: top;\n",
       "    }\n",
       "\n",
       "    .dataframe thead th {\n",
       "        text-align: right;\n",
       "    }\n",
       "</style>\n",
       "<table border=\"1\" class=\"dataframe\">\n",
       "  <thead>\n",
       "    <tr style=\"text-align: right;\">\n",
       "      <th></th>\n",
       "      <th>day</th>\n",
       "      <th>size</th>\n",
       "    </tr>\n",
       "  </thead>\n",
       "  <tbody>\n",
       "    <tr>\n",
       "      <th>2</th>\n",
       "      <td>Sun</td>\n",
       "      <td>2.842105</td>\n",
       "    </tr>\n",
       "  </tbody>\n",
       "</table>\n",
       "</div>"
      ],
      "text/plain": [
       "   day      size\n",
       "2  Sun  2.842105"
      ]
     },
     "execution_count": 22,
     "metadata": {},
     "output_type": "execute_result"
    }
   ],
   "source": [
    "# Answer 1\n",
    "\n",
    "#Groups the Values by Day and size, find the average and sorts the value by size and returns the first row \n",
    "print(\"The Day of the week with largest parties on average:\")\n",
    "tips.groupby('day',as_index=False)['size'].mean().sort_values(by='size', ascending=False).head(1)\n"
   ]
  },
  {
   "cell_type": "code",
   "execution_count": 108,
   "id": "72c47190",
   "metadata": {},
   "outputs": [
    {
     "name": "stdout",
     "output_type": "stream",
     "text": [
      "The Day of the week with largest parties on average:\n"
     ]
    },
    {
     "data": {
      "text/html": [
       "<div>\n",
       "<style scoped>\n",
       "    .dataframe tbody tr th:only-of-type {\n",
       "        vertical-align: middle;\n",
       "    }\n",
       "\n",
       "    .dataframe tbody tr th {\n",
       "        vertical-align: top;\n",
       "    }\n",
       "\n",
       "    .dataframe thead th {\n",
       "        text-align: right;\n",
       "    }\n",
       "</style>\n",
       "<table border=\"1\" class=\"dataframe\">\n",
       "  <thead>\n",
       "    <tr style=\"text-align: right;\">\n",
       "      <th></th>\n",
       "      <th>size</th>\n",
       "    </tr>\n",
       "    <tr>\n",
       "      <th>day</th>\n",
       "      <th></th>\n",
       "    </tr>\n",
       "  </thead>\n",
       "  <tbody>\n",
       "    <tr>\n",
       "      <th>Sun</th>\n",
       "      <td>2.842105</td>\n",
       "    </tr>\n",
       "  </tbody>\n",
       "</table>\n",
       "</div>"
      ],
      "text/plain": [
       "         size\n",
       "day          \n",
       "Sun  2.842105"
      ]
     },
     "execution_count": 108,
     "metadata": {},
     "output_type": "execute_result"
    }
   ],
   "source": [
    "# Answer 2\n",
    "\n",
    "#Using groupby with aggregation function mean \n",
    "print(\"The Day of the week with largest parties on average:\")\n",
    "tips.groupby('day').agg({'size':'mean'}).sort_values(by='size', ascending=False).head(1)"
   ]
  },
  {
   "cell_type": "markdown",
   "id": "f893c05f",
   "metadata": {},
   "source": [
    "### Exercise 2: (5 points)\n",
    "<span  style=\"color:purple; font-size:16px\">Calculate the average bill by day and time and round to 1 decimal place. What day-time combination has the highest average bill? What day-time combination has the lowest average bill?</span>\n"
   ]
  },
  {
   "cell_type": "code",
   "execution_count": 113,
   "id": "896766c0",
   "metadata": {},
   "outputs": [
    {
     "data": {
      "text/html": [
       "<div>\n",
       "<style scoped>\n",
       "    .dataframe tbody tr th:only-of-type {\n",
       "        vertical-align: middle;\n",
       "    }\n",
       "\n",
       "    .dataframe tbody tr th {\n",
       "        vertical-align: top;\n",
       "    }\n",
       "\n",
       "    .dataframe thead th {\n",
       "        text-align: right;\n",
       "    }\n",
       "</style>\n",
       "<table border=\"1\" class=\"dataframe\">\n",
       "  <thead>\n",
       "    <tr style=\"text-align: right;\">\n",
       "      <th></th>\n",
       "      <th></th>\n",
       "      <th>total_bill</th>\n",
       "    </tr>\n",
       "    <tr>\n",
       "      <th>day</th>\n",
       "      <th>time</th>\n",
       "      <th></th>\n",
       "    </tr>\n",
       "  </thead>\n",
       "  <tbody>\n",
       "    <tr>\n",
       "      <th>Sun</th>\n",
       "      <th>Dinner</th>\n",
       "      <td>21.4</td>\n",
       "    </tr>\n",
       "    <tr>\n",
       "      <th>Sat</th>\n",
       "      <th>Dinner</th>\n",
       "      <td>20.4</td>\n",
       "    </tr>\n",
       "    <tr>\n",
       "      <th>Fri</th>\n",
       "      <th>Dinner</th>\n",
       "      <td>19.7</td>\n",
       "    </tr>\n",
       "    <tr>\n",
       "      <th rowspan=\"2\" valign=\"top\">Thur</th>\n",
       "      <th>Dinner</th>\n",
       "      <td>18.8</td>\n",
       "    </tr>\n",
       "    <tr>\n",
       "      <th>Lunch</th>\n",
       "      <td>17.7</td>\n",
       "    </tr>\n",
       "    <tr>\n",
       "      <th>Fri</th>\n",
       "      <th>Lunch</th>\n",
       "      <td>12.8</td>\n",
       "    </tr>\n",
       "  </tbody>\n",
       "</table>\n",
       "</div>"
      ],
      "text/plain": [
       "             total_bill\n",
       "day  time              \n",
       "Sun  Dinner        21.4\n",
       "Sat  Dinner        20.4\n",
       "Fri  Dinner        19.7\n",
       "Thur Dinner        18.8\n",
       "     Lunch         17.7\n",
       "Fri  Lunch         12.8"
      ]
     },
     "execution_count": 113,
     "metadata": {},
     "output_type": "execute_result"
    }
   ],
   "source": [
    "# Answer\n",
    "\n",
    "#The average bill by day and time in ascending order by rounding to 1 decimal place\n",
    "avg_bill_by_DayTime = tips.groupby(['day', 'time']).agg({'total_bill':'mean'}).sort_values(\n",
    "    by='total_bill', ascending=False).round(1)\n",
    "avg_bill_by_DayTime"
   ]
  },
  {
   "cell_type": "code",
   "execution_count": 119,
   "id": "da2d34fe",
   "metadata": {
    "scrolled": true
   },
   "outputs": [
    {
     "name": "stdout",
     "output_type": "stream",
     "text": [
      "Below day-time combination has the highest average bill: \n",
      "             total_bill\n",
      "day time              \n",
      "Sun Dinner        21.4\n"
     ]
    }
   ],
   "source": [
    "print(f'Below day-time combination has the highest average bill: \\n {avg_bill_by_DayTime.head(1)}')"
   ]
  },
  {
   "cell_type": "code",
   "execution_count": 121,
   "id": "ea6d7611",
   "metadata": {},
   "outputs": [
    {
     "name": "stdout",
     "output_type": "stream",
     "text": [
      "Below day-time combination has the lowest average bill: \n",
      "            total_bill\n",
      "day time             \n",
      "Fri Lunch        12.8\n"
     ]
    }
   ],
   "source": [
    "print(f'Below day-time combination has the lowest average bill: \\n {avg_bill_by_DayTime.tail(1)}')"
   ]
  },
  {
   "cell_type": "markdown",
   "id": "d34f5345",
   "metadata": {},
   "source": [
    "### Exercise 3: (5 points)\n",
    "<span  style=\"color:purple; font-size:16px\">Extract the average bill for Friday lunch from the result of Exercise 2. The result should be the actual rounded value. </span>"
   ]
  },
  {
   "cell_type": "code",
   "execution_count": 39,
   "id": "3ecc125d",
   "metadata": {},
   "outputs": [
    {
     "data": {
      "text/plain": [
       "total_bill    12.8\n",
       "Name: (Fri, Lunch), dtype: float64"
      ]
     },
     "execution_count": 39,
     "metadata": {},
     "output_type": "execute_result"
    }
   ],
   "source": [
    "# Answer\n",
    "# To Extract the average bill for Friday lunch\n",
    "avg_bill_by_DayTime.loc[('Fri','Lunch')]\n"
   ]
  },
  {
   "cell_type": "code",
   "execution_count": 123,
   "id": "02feee67",
   "metadata": {},
   "outputs": [
    {
     "name": "stdout",
     "output_type": "stream",
     "text": [
      "Average bill for Friday lunch:\n"
     ]
    },
    {
     "data": {
      "text/plain": [
       "total_bill    12.8\n",
       "Name: (Fri, Lunch), dtype: float64"
      ]
     },
     "execution_count": 123,
     "metadata": {},
     "output_type": "execute_result"
    }
   ],
   "source": [
    "print('Average bill for Friday lunch:')\n",
    "\n",
    "#In One Line\n",
    "tips.groupby(['day', 'time']).agg({'total_bill':'mean'}).sort_values(\n",
    "    by='total_bill', ascending=False).round(1).loc[('Fri','Lunch')]"
   ]
  },
  {
   "cell_type": "markdown",
   "id": "7b9a3406",
   "metadata": {},
   "source": [
    "### Exercise 4: (5 points)\n",
    "<span  style=\"color:purple; font-size:16px\">Use `.groupby()` to make a visualization comparing the distribution of tip percentages left by males and females. How do they compare?</span>"
   ]
  },
  {
   "cell_type": "code",
   "execution_count": 142,
   "id": "511664f5",
   "metadata": {},
   "outputs": [
    {
     "data": {
      "text/plain": [
       "sex\n",
       "Female    AxesSubplot(0.125,0.125;0.775x0.755)\n",
       "Male      AxesSubplot(0.125,0.125;0.775x0.755)\n",
       "Name: tip_percent, dtype: object"
      ]
     },
     "execution_count": 142,
     "metadata": {},
     "output_type": "execute_result"
    },
    {
     "data": {
      "image/png": "[encoded data removed]",
      "text/plain": [
       "<Figure size 1080x576 with 1 Axes>"
      ]
     },
     "metadata": {
      "needs_background": "light"
     },
     "output_type": "display_data"
    }
   ],
   "source": [
    "#Answer\n",
    "\n",
    "#Using groupby() to make a visualization comparing the distribution of tip percentages left by males and females\n",
    "tips.groupby(by='sex')['tip_percent'].plot(kind='hist',\n",
    "                                            bins=10,\n",
    "                                            alpha=0.3,\n",
    "                                            legend=True,\n",
    "                                            title = 'Distribution of Tip percentages left by Males and Females',\n",
    "                                            figsize=(15,8),\n",
    "                                            )"
   ]
  },
  {
   "cell_type": "markdown",
   "id": "b9bdb525",
   "metadata": {},
   "source": [
    "- From the above Visualization plot, We see Tip Percent left by Female is higher than the Tip Percent left by Male"
   ]
  },
  {
   "cell_type": "markdown",
   "id": "fd1c8154",
   "metadata": {},
   "source": [
    "### Exercise 5: (5 points)\n",
    "<span  style=\"color:purple; font-size:16px\">Calculate the average total bill by day, time, and party size. Display the results in a pivot table.</span>"
   ]
  },
  {
   "cell_type": "code",
   "execution_count": 137,
   "id": "cc79b9f5",
   "metadata": {},
   "outputs": [
    {
     "data": {
      "text/html": [
       "<div>\n",
       "<style scoped>\n",
       "    .dataframe tbody tr th:only-of-type {\n",
       "        vertical-align: middle;\n",
       "    }\n",
       "\n",
       "    .dataframe tbody tr th {\n",
       "        vertical-align: top;\n",
       "    }\n",
       "\n",
       "    .dataframe thead th {\n",
       "        text-align: right;\n",
       "    }\n",
       "</style>\n",
       "<table border=\"1\" class=\"dataframe\">\n",
       "  <thead>\n",
       "    <tr style=\"text-align: right;\">\n",
       "      <th></th>\n",
       "      <th>size</th>\n",
       "      <th>1</th>\n",
       "      <th>2</th>\n",
       "      <th>3</th>\n",
       "      <th>4</th>\n",
       "      <th>5</th>\n",
       "      <th>6</th>\n",
       "    </tr>\n",
       "    <tr>\n",
       "      <th>day</th>\n",
       "      <th>time</th>\n",
       "      <th></th>\n",
       "      <th></th>\n",
       "      <th></th>\n",
       "      <th></th>\n",
       "      <th></th>\n",
       "      <th></th>\n",
       "    </tr>\n",
       "  </thead>\n",
       "  <tbody>\n",
       "    <tr>\n",
       "      <th rowspan=\"2\" valign=\"top\">Fri</th>\n",
       "      <th>Dinner</th>\n",
       "      <td>NaN</td>\n",
       "      <td>17.799091</td>\n",
       "      <td>NaN</td>\n",
       "      <td>40.170000</td>\n",
       "      <td>NaN</td>\n",
       "      <td>NaN</td>\n",
       "    </tr>\n",
       "    <tr>\n",
       "      <th>Lunch</th>\n",
       "      <td>8.58</td>\n",
       "      <td>13.072000</td>\n",
       "      <td>15.980000</td>\n",
       "      <td>NaN</td>\n",
       "      <td>NaN</td>\n",
       "      <td>NaN</td>\n",
       "    </tr>\n",
       "    <tr>\n",
       "      <th>Sat</th>\n",
       "      <th>Dinner</th>\n",
       "      <td>5.16</td>\n",
       "      <td>16.837170</td>\n",
       "      <td>25.509444</td>\n",
       "      <td>29.876154</td>\n",
       "      <td>28.15</td>\n",
       "      <td>NaN</td>\n",
       "    </tr>\n",
       "    <tr>\n",
       "      <th>Sun</th>\n",
       "      <th>Dinner</th>\n",
       "      <td>NaN</td>\n",
       "      <td>17.560000</td>\n",
       "      <td>22.184000</td>\n",
       "      <td>26.688333</td>\n",
       "      <td>27.00</td>\n",
       "      <td>48.170000</td>\n",
       "    </tr>\n",
       "    <tr>\n",
       "      <th rowspan=\"2\" valign=\"top\">Thur</th>\n",
       "      <th>Dinner</th>\n",
       "      <td>NaN</td>\n",
       "      <td>18.780000</td>\n",
       "      <td>NaN</td>\n",
       "      <td>NaN</td>\n",
       "      <td>NaN</td>\n",
       "      <td>NaN</td>\n",
       "    </tr>\n",
       "    <tr>\n",
       "      <th>Lunch</th>\n",
       "      <td>10.07</td>\n",
       "      <td>15.079787</td>\n",
       "      <td>19.160000</td>\n",
       "      <td>29.950000</td>\n",
       "      <td>41.19</td>\n",
       "      <td>30.383333</td>\n",
       "    </tr>\n",
       "  </tbody>\n",
       "</table>\n",
       "</div>"
      ],
      "text/plain": [
       "size             1          2          3          4      5          6\n",
       "day  time                                                            \n",
       "Fri  Dinner    NaN  17.799091        NaN  40.170000    NaN        NaN\n",
       "     Lunch    8.58  13.072000  15.980000        NaN    NaN        NaN\n",
       "Sat  Dinner   5.16  16.837170  25.509444  29.876154  28.15        NaN\n",
       "Sun  Dinner    NaN  17.560000  22.184000  26.688333  27.00  48.170000\n",
       "Thur Dinner    NaN  18.780000        NaN        NaN    NaN        NaN\n",
       "     Lunch   10.07  15.079787  19.160000  29.950000  41.19  30.383333"
      ]
     },
     "execution_count": 137,
     "metadata": {},
     "output_type": "execute_result"
    }
   ],
   "source": [
    "# Answer\n",
    "\n",
    "# Average total bill by day, time, and party size using the pivot table\n",
    "tips.pivot_table(index=['day','time'],\n",
    "                  columns= 'size',\n",
    "                  values='total_bill',\n",
    "                  aggfunc='mean'\n",
    "                  )"
   ]
  },
  {
   "cell_type": "markdown",
   "id": "64095d37",
   "metadata": {},
   "source": [
    "### Exercise 6: (5 points)\n",
    "<span  style=\"color:purple; font-size:16px\">Make a bar chart showing the average total bill by party size, day, and time. (Place party size on the $x$-axis)</span>"
   ]
  },
  {
   "cell_type": "code",
   "execution_count": 139,
   "id": "0ee0e710",
   "metadata": {},
   "outputs": [
    {
     "data": {
      "text/plain": [
       "<AxesSubplot:title={'center':'Average total bill by Party size, Day, and Time'}, xlabel='size', ylabel='Total bill'>"
      ]
     },
     "execution_count": 139,
     "metadata": {},
     "output_type": "execute_result"
    },
    {
     "data": {
      "image/png": "[encoded data removed]",
      "text/plain": [
       "<Figure size 1080x576 with 1 Axes>"
      ]
     },
     "metadata": {
      "needs_background": "light"
     },
     "output_type": "display_data"
    }
   ],
   "source": [
    "# Answer\n",
    "\n",
    "#Bar chart showing the average total bill by party size, day, and time.\n",
    "tips.pivot_table(index='size',\n",
    "                  columns= ['day','time'],\n",
    "                  values='total_bill',\n",
    "                   aggfunc='mean'\n",
    "                  ).plot(kind='bar',\n",
    "                        title = 'Average total bill by Party size, Day, and Time',\n",
    "                        ylabel= 'Total bill',\n",
    "                        legend= True,\n",
    "                        stacked=True,\n",
    "                        figsize=(15,8))"
   ]
  },
  {
   "cell_type": "markdown",
   "id": "01305803",
   "metadata": {},
   "source": [
    "### Exercise 7: (10 points)\n",
    "<span  style=\"color:purple; font-size:16px\">Make a bar chart showing the tip percent by party size, and day. (Place day on the $x$-axis, average `tip_percent` on the $y$-axis, and the bars colored by party `size`. Use `pivot_table()` to reshape the data appropriately.)</span>"
   ]
  },
  {
   "cell_type": "code",
   "execution_count": 138,
   "id": "c89d40f9",
   "metadata": {},
   "outputs": [
    {
     "data": {
      "text/plain": [
       "<AxesSubplot:title={'center':'Tip percent by Party size and Day'}, xlabel='day', ylabel='Tip Percent'>"
      ]
     },
     "execution_count": 138,
     "metadata": {},
     "output_type": "execute_result"
    },
    {
     "data": {
      "image/png": "[encoded data removed]",
      "text/plain": [
       "<Figure size 1080x576 with 1 Axes>"
      ]
     },
     "metadata": {
      "needs_background": "light"
     },
     "output_type": "display_data"
    }
   ],
   "source": [
    "# Answer\n",
    "\n",
    "#Bar chart showing the tip percent by party size, and day using pivot table\n",
    "tips.pivot_table(index='day',\n",
    "                  columns= 'size',\n",
    "                  values='tip_percent',\n",
    "                   aggfunc='mean'\n",
    "                  ).plot(kind='bar',\n",
    "                        legend= True,\n",
    "                        title ='Tip percent by Party size and Day',\n",
    "                        ylabel= 'Tip Percent',\n",
    "                        stacked=True,\n",
    "                        figsize=(15,8))"
   ]
  },
  {
   "cell_type": "markdown",
   "id": "325cc988",
   "metadata": {},
   "source": [
    "### Exercise 8: (10 points)\n",
    "<span  style=\"color:purple; font-size:16px\">Make a visualization that displays the conditional distribution of party size, given the day of the week.</span>\n",
    "\n",
    "(Hint: use `crosstab()` to reshape the data appropriately with the days of the week as the index and the party size as the column. To obtain the *conditional* distributions, use the `normalize = 'index'` argument to normalize the distribution row-wise before passing the resulting data matrix to the `plot()` method.)"
   ]
  },
  {
   "cell_type": "markdown",
   "id": "9e624b90",
   "metadata": {},
   "source": [
    "#### Conditional distribution of party size by the day of the week using crosstab()"
   ]
  },
  {
   "cell_type": "code",
   "execution_count": 64,
   "id": "24e09db3",
   "metadata": {},
   "outputs": [
    {
     "data": {
      "text/html": [
       "<div>\n",
       "<style scoped>\n",
       "    .dataframe tbody tr th:only-of-type {\n",
       "        vertical-align: middle;\n",
       "    }\n",
       "\n",
       "    .dataframe tbody tr th {\n",
       "        vertical-align: top;\n",
       "    }\n",
       "\n",
       "    .dataframe thead th {\n",
       "        text-align: right;\n",
       "    }\n",
       "</style>\n",
       "<table border=\"1\" class=\"dataframe\">\n",
       "  <thead>\n",
       "    <tr style=\"text-align: right;\">\n",
       "      <th>size</th>\n",
       "      <th>1</th>\n",
       "      <th>2</th>\n",
       "      <th>3</th>\n",
       "      <th>4</th>\n",
       "      <th>5</th>\n",
       "      <th>6</th>\n",
       "    </tr>\n",
       "    <tr>\n",
       "      <th>day</th>\n",
       "      <th></th>\n",
       "      <th></th>\n",
       "      <th></th>\n",
       "      <th></th>\n",
       "      <th></th>\n",
       "      <th></th>\n",
       "    </tr>\n",
       "  </thead>\n",
       "  <tbody>\n",
       "    <tr>\n",
       "      <th>Fri</th>\n",
       "      <td>0.052632</td>\n",
       "      <td>0.842105</td>\n",
       "      <td>0.052632</td>\n",
       "      <td>0.052632</td>\n",
       "      <td>0.000000</td>\n",
       "      <td>0.000000</td>\n",
       "    </tr>\n",
       "    <tr>\n",
       "      <th>Sat</th>\n",
       "      <td>0.022989</td>\n",
       "      <td>0.609195</td>\n",
       "      <td>0.206897</td>\n",
       "      <td>0.149425</td>\n",
       "      <td>0.011494</td>\n",
       "      <td>0.000000</td>\n",
       "    </tr>\n",
       "    <tr>\n",
       "      <th>Sun</th>\n",
       "      <td>0.000000</td>\n",
       "      <td>0.513158</td>\n",
       "      <td>0.197368</td>\n",
       "      <td>0.236842</td>\n",
       "      <td>0.039474</td>\n",
       "      <td>0.013158</td>\n",
       "    </tr>\n",
       "    <tr>\n",
       "      <th>Thur</th>\n",
       "      <td>0.016129</td>\n",
       "      <td>0.774194</td>\n",
       "      <td>0.064516</td>\n",
       "      <td>0.080645</td>\n",
       "      <td>0.016129</td>\n",
       "      <td>0.048387</td>\n",
       "    </tr>\n",
       "    <tr>\n",
       "      <th>All</th>\n",
       "      <td>0.016393</td>\n",
       "      <td>0.639344</td>\n",
       "      <td>0.155738</td>\n",
       "      <td>0.151639</td>\n",
       "      <td>0.020492</td>\n",
       "      <td>0.016393</td>\n",
       "    </tr>\n",
       "  </tbody>\n",
       "</table>\n",
       "</div>"
      ],
      "text/plain": [
       "size         1         2         3         4         5         6\n",
       "day                                                             \n",
       "Fri   0.052632  0.842105  0.052632  0.052632  0.000000  0.000000\n",
       "Sat   0.022989  0.609195  0.206897  0.149425  0.011494  0.000000\n",
       "Sun   0.000000  0.513158  0.197368  0.236842  0.039474  0.013158\n",
       "Thur  0.016129  0.774194  0.064516  0.080645  0.016129  0.048387\n",
       "All   0.016393  0.639344  0.155738  0.151639  0.020492  0.016393"
      ]
     },
     "execution_count": 64,
     "metadata": {},
     "output_type": "execute_result"
    }
   ],
   "source": [
    "# Answer\n",
    "pd.crosstab(index=tips['day'],\n",
    "           columns=tips['size'],\n",
    "           normalize='index',\n",
    "           margins=True)"
   ]
  },
  {
   "cell_type": "markdown",
   "id": "2ca62b99",
   "metadata": {},
   "source": [
    "#### Visualization of Conditional Distribution of party size by day of the week - UnStacked"
   ]
  },
  {
   "cell_type": "code",
   "execution_count": 66,
   "id": "b8633c6e",
   "metadata": {},
   "outputs": [
    {
     "data": {
      "text/plain": [
       "<AxesSubplot:title={'center':'Conditional Distribution of party size by day of the week'}, xlabel='day'>"
      ]
     },
     "execution_count": 66,
     "metadata": {},
     "output_type": "execute_result"
    },
    {
     "data": {
      "image/png": "[encoded data removed]",
      "text/plain": [
       "<Figure size 1080x576 with 1 Axes>"
      ]
     },
     "metadata": {
      "needs_background": "light"
     },
     "output_type": "display_data"
    }
   ],
   "source": [
    "pd.crosstab(index=tips['day'],\n",
    "           columns=tips['size'],\n",
    "           normalize='index',\n",
    "           margins=True).plot(kind='bar',\n",
    "                              figsize=(15,8),\n",
    "                              title='Conditional Distribution of party size by day of the week')"
   ]
  },
  {
   "cell_type": "markdown",
   "id": "db7fc0a2",
   "metadata": {},
   "source": [
    "#### Visualization of Conditional Distribution of party size by day of the week - Stacked Column Chart"
   ]
  },
  {
   "cell_type": "code",
   "execution_count": 86,
   "id": "82eb438a",
   "metadata": {},
   "outputs": [
    {
     "data": {
      "text/plain": [
       "<AxesSubplot:title={'center':'Conditional Distribution of party size by day of the week'}, xlabel='day'>"
      ]
     },
     "execution_count": 86,
     "metadata": {},
     "output_type": "execute_result"
    },
    {
     "data": {
      "image/png": "[encoded data removed]",
      "text/plain": [
       "<Figure size 1368x720 with 1 Axes>"
      ]
     },
     "metadata": {
      "needs_background": "light"
     },
     "output_type": "display_data"
    }
   ],
   "source": [
    "pd.crosstab(index=tips['day'],\n",
    "           columns=tips['size'],\n",
    "           normalize='index',\n",
    "           margins=True).plot(kind='bar',\n",
    "                              figsize=(19,10),\n",
    "                              stacked=True,\n",
    "                              title='Conditional Distribution of party size by day of the week')"
   ]
  }
 ],
 "metadata": {
  "kernelspec": {
   "display_name": "Python 3 (ipykernel)",
   "language": "python",
   "name": "python3"
  },
  "language_info": {
   "codemirror_mode": {
    "name": "ipython",
    "version": 3
   },
   "file_extension": ".py",
   "mimetype": "text/x-python",
   "name": "python",
   "nbconvert_exporter": "python",
   "pygments_lexer": "ipython3",
   "version": "3.9.7"
  }
 },
 "nbformat": 4,
 "nbformat_minor": 5
}
