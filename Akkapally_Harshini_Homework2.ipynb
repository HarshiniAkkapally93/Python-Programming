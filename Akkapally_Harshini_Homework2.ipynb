{
 "cells": [
  {
   "cell_type": "markdown",
   "metadata": {},
   "source": [
    "## DATA 690 Homework 2 (50 points - Due on Sunday, September 25, 2022 by 11:00 pm ET)\n",
    "\n",
    "The output of this assignment for submission should be in PDF format **AND** .py or .ipynb. The name of the file should be as follows: Lastname_Firstname_Homework2.pdf (example: Thomas_Sunela_Homework2.pdf) **AND** Lastname_Firstname_Homework2.ipynb (example: Thomas_Sunela_Assignment2.ipynb. In short, you are submitting the python notebook as well as the pdf of that notebook. Do **NOT** submit .html file, the system will give you an error.\n",
    "\n",
    "    \n",
    "Incorrect file name will cost you points!<br>\n",
    "\n",
    "Instructions for converting a Jupyter Python notebook to PDF: Go to the menu and choose, File --> Download As --> html. Open that html file and print it to PDF. Submit the PDF file **NOT** the html file.\n",
    "\n",
    "If you are using Google Colab, remember to review the PDF before submitting to ensure that all cells and answers are displayed in the PDF.\n",
    "\n",
    "**Things to note:**\n",
    "\n",
    "* Each cell should display an output\n",
    "* Use only the basic Python concepts and methods\n",
    "* Use both Markdown and code comments in the Jupyter Notebook as needed\n"
   ]
  },
  {
   "cell_type": "markdown",
   "metadata": {},
   "source": [
    "We covered a lot of the basics of the Python programming language. Mastering the fundamentals of Python will equip you for more advanced data analysis libraries like the *Pandas* library.\n",
    "\n",
    "The goal of this activity is to start thinking about data analysis related tasks only using base Python. You will get practice using various data types, data structures, conditionals, and loops, and gain more experience writing functions."
   ]
  },
  {
   "cell_type": "markdown",
   "metadata": {},
   "source": [
    "## Clinical Trials - Sheep\n",
    "\n",
    "While working for a pharmaceutical company that specializes in medications for agriculture you were assigned to work on a project assessing the effectiveness of a new drug designed to treat tapeworms in sheep. (If the sheep have tapeworms they can't get as fat as they need to be at slaughter and it is a waste of feed.) \n",
    "\n",
    "To investigate you obtain a random sample of 25 worm-infected lambs of approximately the same age and health. Then you randomly divided the lambs into two groups. Twelve of the lambs were injected with the drug and the remaining thirteen were left untreated. After 6 months, the lambs were slaughtered and the number of worms were counted. You need to report to your boss whether the new medication has reduced the average number of tapeworms in the lambs. If so, how much?\n",
    "\n",
    "<pre>\n",
    "Treated: 18, 43, 28, 50, 16, 32, 13, 35, 38, 33, 6, 7\n",
    "Untreated: 40, 54, 26, 63, 21, 37, 39, 23, 48, 58, 28, 39, 42\n",
    "</pre>"
   ]
  },
  {
   "cell_type": "markdown",
   "metadata": {},
   "source": [
    "### Exercise 1: (2 points)\n",
    "\n",
    "<span  style=\"color:purple; font-size:16px\">Create two lists (*treated* and *untreated*) containing the data above</span>"
   ]
  },
  {
   "cell_type": "code",
   "execution_count": 1,
   "metadata": {},
   "outputs": [],
   "source": [
    "## Exercise Answer\n",
    "\n",
    "#Creating Lists \n",
    "treated = [18, 43, 28, 50, 16, 32, 13, 35, 38, 33, 6, 7]\n",
    "untreated = [40, 54, 26, 63, 21, 37, 39, 23, 48, 58, 28, 39, 42]"
   ]
  },
  {
   "cell_type": "code",
   "execution_count": 2,
   "metadata": {},
   "outputs": [
    {
     "name": "stdout",
     "output_type": "stream",
     "text": [
      "Treated List : [18, 43, 28, 50, 16, 32, 13, 35, 38, 33, 6, 7]\n"
     ]
    }
   ],
   "source": [
    "print(f'Treated List : {treated}')"
   ]
  },
  {
   "cell_type": "code",
   "execution_count": 3,
   "metadata": {},
   "outputs": [
    {
     "name": "stdout",
     "output_type": "stream",
     "text": [
      "UnTreated List : [40, 54, 26, 63, 21, 37, 39, 23, 48, 58, 28, 39, 42]\n"
     ]
    }
   ],
   "source": [
    "print(f'UnTreated List : {untreated}')"
   ]
  },
  {
   "cell_type": "markdown",
   "metadata": {},
   "source": [
    "### Exercise 2: (3 points)\n",
    "<span  style=\"color:purple; font-size:16px\">Use an appropriate method to print the number of elements in each list (*treated* and *untreated*). Use fstrings to nicely print the output as a complete sentence.</span>"
   ]
  },
  {
   "cell_type": "markdown",
   "metadata": {},
   "source": [
    "len() function returns the number of elements in the List"
   ]
  },
  {
   "cell_type": "code",
   "execution_count": 4,
   "metadata": {},
   "outputs": [],
   "source": [
    "## Exercise Answer\n",
    "\n",
    "num_treated=len(treated)"
   ]
  },
  {
   "cell_type": "markdown",
   "metadata": {},
   "source": [
    "Using fstrings to print the length of the strings"
   ]
  },
  {
   "cell_type": "code",
   "execution_count": 5,
   "metadata": {},
   "outputs": [
    {
     "name": "stdout",
     "output_type": "stream",
     "text": [
      "There are 12 elements in the Treated List\n"
     ]
    }
   ],
   "source": [
    "print(f'There are {num_treated} elements in the Treated List')"
   ]
  },
  {
   "cell_type": "code",
   "execution_count": 6,
   "metadata": {},
   "outputs": [],
   "source": [
    "num_untreated=len(untreated)"
   ]
  },
  {
   "cell_type": "code",
   "execution_count": 7,
   "metadata": {},
   "outputs": [
    {
     "name": "stdout",
     "output_type": "stream",
     "text": [
      "There are 13 elements in the UnTreated List\n"
     ]
    }
   ],
   "source": [
    "print(f'There are {num_untreated} elements in the UnTreated List')"
   ]
  },
  {
   "cell_type": "markdown",
   "metadata": {},
   "source": [
    "### Exercise 3: (5 points)\n",
    "<span  style=\"color:purple; font-size:16px\">Create two new lists (*trt_sorted*, *untrt_sorted*) using the ```copy()``` method that are sorted versions of the original data</span>"
   ]
  },
  {
   "cell_type": "code",
   "execution_count": 8,
   "metadata": {},
   "outputs": [],
   "source": [
    "## Exercise Answer\n",
    "\n",
    "#Creating new lists using the copy() method and sorting the new list using sort()\n",
    "trt_sorted = treated.copy()\n",
    "trt_sorted.sort()\n",
    "\n",
    "untrt_sorted=untreated.copy()\n",
    "untrt_sorted.sort()"
   ]
  },
  {
   "cell_type": "code",
   "execution_count": 46,
   "metadata": {},
   "outputs": [
    {
     "name": "stdout",
     "output_type": "stream",
     "text": [
      "Sorted Treated List: [6, 7, 13, 16, 18, 28, 32, 33, 35, 38, 43, 50]\n"
     ]
    }
   ],
   "source": [
    "print(f'Sorted Treated List: {trt_sorted}')"
   ]
  },
  {
   "cell_type": "code",
   "execution_count": 45,
   "metadata": {},
   "outputs": [
    {
     "name": "stdout",
     "output_type": "stream",
     "text": [
      "Sorted UnTreated List: [21, 23, 26, 28, 37, 39, 39, 40, 42, 48, 54, 58, 63]\n"
     ]
    }
   ],
   "source": [
    "print(f'Sorted UnTreated List: {untrt_sorted}')\n"
   ]
  },
  {
   "cell_type": "markdown",
   "metadata": {},
   "source": [
    "### Exercise 4: (5 points)\n",
    "<span  style=\"color:purple; font-size:16px\">Create a function called `get_nlargest()` that takes in a list as input, and an optional parameter *num* indicating how many values to return but with a default value of 3. The function should then return the *num* largest values from the list. Apply this function to *treated* with num = 4 and *untreated* with the default value.</span>"
   ]
  },
  {
   "cell_type": "code",
   "execution_count": 29,
   "metadata": {},
   "outputs": [],
   "source": [
    "## Exercise Answer\n",
    "def get_nlargest(input_list, num = 3):\n",
    "    input_list.sort() \n",
    "    return input_list[-num: ]"
   ]
  },
  {
   "cell_type": "code",
   "execution_count": 30,
   "metadata": {},
   "outputs": [
    {
     "data": {
      "text/plain": [
       "[35, 38, 43, 50]"
      ]
     },
     "execution_count": 30,
     "metadata": {},
     "output_type": "execute_result"
    }
   ],
   "source": [
    "#Applying get_nlargest function to treated list with num = 4 \n",
    "treated = [18, 43, 28, 50, 16, 32, 13, 35, 38, 33, 6, 7]\n",
    "get_nlargest(treated,4)"
   ]
  },
  {
   "cell_type": "code",
   "execution_count": 31,
   "metadata": {},
   "outputs": [
    {
     "data": {
      "text/plain": [
       "[54, 58, 63]"
      ]
     },
     "execution_count": 31,
     "metadata": {},
     "output_type": "execute_result"
    }
   ],
   "source": [
    "#Applying get_nlargest function to untreated with default value \n",
    "untreated = [40, 54, 26, 63, 21, 37, 39, 23, 48, 58, 28, 39, 42]\n",
    "get_nlargest(untreated)"
   ]
  },
  {
   "cell_type": "markdown",
   "metadata": {},
   "source": [
    "### Exercise 5: (5 points)\n",
    "<span  style=\"color:purple; font-size:16px\">Create a function `get_mean()` to calculate the mean of a list input called *num_list* and return the mean. Use this function to calculate the average number of tapeworms for each group. Use fstrings and the round function to nicely print the output as a complete sentence. Use two decimal places.</span>"
   ]
  },
  {
   "cell_type": "code",
   "execution_count": 32,
   "metadata": {},
   "outputs": [],
   "source": [
    "## Exercise Answer\n",
    "# Calculating the mean of the Input List and rounding it to 2 decimals\n",
    "def get_mean(num_list):\n",
    "    n = len(num_list)\n",
    "    mean = sum(num_list) / n\n",
    "    avg_list = round(mean,2)\n",
    "    return avg_list"
   ]
  },
  {
   "cell_type": "markdown",
   "metadata": {},
   "source": [
    "we can also use the mean method from statistics package,\n",
    " avg_list = round(mean(num_list),2)"
   ]
  },
  {
   "cell_type": "markdown",
   "metadata": {},
   "source": [
    "Calculating the Mean or Average number of the Treated Tapeworms "
   ]
  },
  {
   "cell_type": "code",
   "execution_count": 33,
   "metadata": {},
   "outputs": [
    {
     "name": "stdout",
     "output_type": "stream",
     "text": [
      "The Average Number of Treated Tapeworms are 26.58\n"
     ]
    }
   ],
   "source": [
    "treated = [18, 43, 28, 50, 16, 32, 13, 35, 38, 33, 6, 7]\n",
    "avg_treated_tapeworms = get_mean(treated)\n",
    "print(f'The Average Number of Treated Tapeworms are {avg_treated_tapeworms}')"
   ]
  },
  {
   "cell_type": "markdown",
   "metadata": {},
   "source": [
    "Calculating the Mean or Average number of the UnTreated Tapeworms "
   ]
  },
  {
   "cell_type": "code",
   "execution_count": 34,
   "metadata": {},
   "outputs": [
    {
     "name": "stdout",
     "output_type": "stream",
     "text": [
      "The Average Number of UnTreated Tapeworms are 39.85\n"
     ]
    }
   ],
   "source": [
    "untreated = [40, 54, 26, 63, 21, 37, 39, 23, 48, 58, 28, 39, 42]\n",
    "avg_untreated_tapeworms = get_mean(untreated)\n",
    "print(f'The Average Number of UnTreated Tapeworms are {avg_untreated_tapeworms}')"
   ]
  },
  {
   "cell_type": "markdown",
   "metadata": {},
   "source": [
    "### Exercise 6: (5 points)\n",
    "<span  style=\"color:purple; font-size:16px\">Create a function `get_difference_means()` to calculate the difference in the average between two lists: *num_list1* and *num_list2*. Use this function to calculate the difference in the average number of tapeworms for the *treated* and *untreated* sheep. What does this suggest about the efficacy of the tapeworm drug? Does it seem like it may be effective in reducing the number of tapeworms in sheep?</span>"
   ]
  },
  {
   "cell_type": "code",
   "execution_count": 17,
   "metadata": {},
   "outputs": [],
   "source": [
    "## Exercise Answer\n",
    "treated = [18, 43, 28, 50, 16, 32, 13, 35, 38, 33, 6, 7]\n",
    "untreated = [40, 54, 26, 63, 21, 37, 39, 23, 48, 58, 28, 39, 42]\n",
    "\n",
    "def get_mean(num_list):\n",
    "    n = len(num_list)\n",
    "    mean = sum(num_list) / n\n",
    "    avg_list = round(mean,2)\n",
    "    return avg_list\n",
    "\n",
    "def get_difference_means(num_list1, num_list2):\n",
    "    avg_diff = round(get_mean(num_list1) - get_mean(num_list2),2)\n",
    "    return avg_diff"
   ]
  },
  {
   "cell_type": "markdown",
   "metadata": {},
   "source": [
    "We can also use mean function from statistics avg_diff = mean(num_list1) - mean(num_list2)"
   ]
  },
  {
   "cell_type": "markdown",
   "metadata": {},
   "source": [
    "calculating the difference in the average number of tapeworms for the treated and untreated "
   ]
  },
  {
   "cell_type": "code",
   "execution_count": 18,
   "metadata": {},
   "outputs": [
    {
     "name": "stdout",
     "output_type": "stream",
     "text": [
      "The difference in the average number of tapeworms for the untreated and treated sheep is 13.27\n"
     ]
    }
   ],
   "source": [
    "mean_diff = get_difference_means(untreated,treated)\n",
    "print(f'The difference in the average number of tapeworms for the untreated and treated sheep is {mean_diff}')"
   ]
  },
  {
   "cell_type": "markdown",
   "metadata": {},
   "source": [
    "There is a significant difference between the average number of the tapeworms for the untreated and treated sheep.  It seems like drug is effective in reducing the number of tapeworms in sheep."
   ]
  },
  {
   "cell_type": "markdown",
   "metadata": {},
   "source": [
    "### Exercise 7: (5 points)\n",
    "<span  style=\"color:purple; font-size:16px\">Create a function `get_std()` to calculate the standard deviation in number of tapeworms for each group. The function should have a single parameter called *num_list* and return the standard deviation. This function will require the import of the math package to add the ability to calculate a square root (`math.sqrt()`).</span>\n",
    "\n",
    "The sample standard deviation $s$ of a list of numbers $x_1, x_2, x_3, ..., x_n$ with sample mean $\\bar{x}$ is defined to be:\n",
    "\n",
    "$s =  \\sqrt{\\sum_{i=1}^{n}\\frac{({x_i - \\bar{x})^2}}{n-1}}$"
   ]
  },
  {
   "cell_type": "markdown",
   "metadata": {},
   "source": [
    "Function to calculate the Standard Deviation"
   ]
  },
  {
   "cell_type": "code",
   "execution_count": 35,
   "metadata": {},
   "outputs": [],
   "source": [
    "## Exercise Answer\n",
    "\n",
    "#Importing math package for using math.sqrt() function\n",
    "import math\n",
    "\n",
    "#Function to calculate the Standard Deviation\n",
    "def get_std(num_list):\n",
    "    n = len(num_list)\n",
    "    mean = sum(num_list) / n\n",
    "    variance = sum((x - mean)**2 for x in num_list) / (n - 1)\n",
    "    std_dev = round(math.sqrt(variance),2)\n",
    "    return std_dev"
   ]
  },
  {
   "cell_type": "markdown",
   "metadata": {},
   "source": [
    "calculating the the standard deviation in number of tapeworms for treated group"
   ]
  },
  {
   "cell_type": "code",
   "execution_count": 36,
   "metadata": {},
   "outputs": [
    {
     "name": "stdout",
     "output_type": "stream",
     "text": [
      "The standard deviation in number of tapeworms for treated group is: 14.36\n"
     ]
    }
   ],
   "source": [
    "treated = [18, 43, 28, 50, 16, 32, 13, 35, 38, 33, 6, 7]\n",
    "trtd_stddev= get_std(treated)\n",
    "print(f'The standard deviation in number of tapeworms for treated group is: {trtd_stddev}')"
   ]
  },
  {
   "cell_type": "markdown",
   "metadata": {},
   "source": [
    "calculating the the standard deviation in number of tapeworms for untreated group"
   ]
  },
  {
   "cell_type": "code",
   "execution_count": 37,
   "metadata": {},
   "outputs": [
    {
     "name": "stdout",
     "output_type": "stream",
     "text": [
      "The standard deviation in number of tapeworms for untreated group is: 13.28\n"
     ]
    }
   ],
   "source": [
    "untreated = [40, 54, 26, 63, 21, 37, 39, 23, 48, 58, 28, 39, 42]\n",
    "trtd_stddev= get_std(untreated)\n",
    "print(f'The standard deviation in number of tapeworms for untreated group is: {trtd_stddev}')"
   ]
  },
  {
   "cell_type": "markdown",
   "metadata": {},
   "source": [
    "### Exercise 8: (5 points)\n",
    "<span  style=\"color:purple; font-size:16px\">Create a function called get_max_min() that takes a single list as input and returns a tuple with the first element being the minimum and the second element being the maximum. Apply this function to treated and untreated. Add a default parameter pretty_print that is by default set to False but if True prints out a complete sentence with min and max as shown below. Note, if you have a list of numbers, max(list) will return the maximum value and min(list) will return the minimum value of the list.</span>\n",
    "\n",
    "<span  style=\"color:purple; font-size:16px\">**Note, if you have a list of numbers, `max(list)` will return the maximum value and `min(list)` will return the minimum value of the list.**</span>\n",
    "\n",
    "---\n",
    "\n",
    "Test Input:\n",
    "\n",
    "<pre>\n",
    "get_min_max(treated, pretty_print = True)\n",
    "</pre>\n",
    "\n",
    "Example output:\n",
    "\n",
    "<pre>\n",
    "The minimum is 6 and the maximum is 50\n",
    "(6, 50)\n",
    "</pre>\n",
    "\n",
    "---\n",
    "\n",
    "Test Input:\n",
    "\n",
    "<pre>\n",
    "get_min_max(treated, pretty_print = False)\n",
    "</pre>\n",
    "\n",
    "Example output:\n",
    "\n",
    "<pre>\n",
    "(6, 50)\n",
    "</pre>"
   ]
  },
  {
   "cell_type": "code",
   "execution_count": 38,
   "metadata": {},
   "outputs": [],
   "source": [
    "## Exercise Answer\n",
    "\n",
    "#Function to return min and max values from the List\n",
    "def get_min_max(treated, pretty_print = False):\n",
    "    max_min_values = (min(treated),max(treated))\n",
    "    if pretty_print == True:\n",
    "        print(f'The minimum is {max_min_values[0]} and the maximum is {max_min_values[1]}')\n",
    "    return max_min_values"
   ]
  },
  {
   "cell_type": "markdown",
   "metadata": {},
   "source": [
    "Applying get_min_max function to the Treated List"
   ]
  },
  {
   "cell_type": "code",
   "execution_count": 23,
   "metadata": {},
   "outputs": [
    {
     "name": "stdout",
     "output_type": "stream",
     "text": [
      "The minimum is 6 and the maximum is 50\n"
     ]
    },
    {
     "data": {
      "text/plain": [
       "(6, 50)"
      ]
     },
     "execution_count": 23,
     "metadata": {},
     "output_type": "execute_result"
    }
   ],
   "source": [
    "treated = [18, 43, 28, 50, 16, 32, 13, 35, 38, 33, 6, 7]\n",
    "\n",
    "#pretty_print is True, so we get the complete sentence in output\n",
    "get_min_max(treated, True) "
   ]
  },
  {
   "cell_type": "code",
   "execution_count": 24,
   "metadata": {},
   "outputs": [
    {
     "data": {
      "text/plain": [
       "(6, 50)"
      ]
     },
     "execution_count": 24,
     "metadata": {},
     "output_type": "execute_result"
    }
   ],
   "source": [
    "#pretty_print is False by default, so we dont get the complete sentence in output\n",
    "get_min_max(treated) "
   ]
  },
  {
   "cell_type": "markdown",
   "metadata": {},
   "source": [
    "Applying get_min_max function to the UnTreated List"
   ]
  },
  {
   "cell_type": "code",
   "execution_count": 25,
   "metadata": {},
   "outputs": [
    {
     "name": "stdout",
     "output_type": "stream",
     "text": [
      "The minimum is 21 and the maximum is 63\n"
     ]
    },
    {
     "data": {
      "text/plain": [
       "(21, 63)"
      ]
     },
     "execution_count": 25,
     "metadata": {},
     "output_type": "execute_result"
    }
   ],
   "source": [
    "untreated = [40, 54, 26, 63, 21, 37, 39, 23, 48, 58, 28, 39, 42]\n",
    "\n",
    "#pretty_print is True, so we get the complete sentence in output\n",
    "get_min_max(untreated, True) "
   ]
  },
  {
   "cell_type": "code",
   "execution_count": 26,
   "metadata": {},
   "outputs": [
    {
     "data": {
      "text/plain": [
       "(21, 63)"
      ]
     },
     "execution_count": 26,
     "metadata": {},
     "output_type": "execute_result"
    }
   ],
   "source": [
    "#pretty_print is False by default, so we dont get the complete sentence in output\n",
    "get_min_max(untreated) "
   ]
  },
  {
   "cell_type": "markdown",
   "metadata": {},
   "source": [
    "### Exercise 9: (5 points)\n",
    "<span  style=\"color:purple; font-size:16px\">Create a dictionary called 'data_dict' containing the sheep experiment data. Use the string literals 'treated' and 'untreated' as the **keys** and use the lists, *treated* and *untreated*, created in Exercise 1 as the **values**.</span>"
   ]
  },
  {
   "cell_type": "code",
   "execution_count": 41,
   "metadata": {},
   "outputs": [
    {
     "data": {
      "text/plain": [
       "{'treated': [18, 43, 28, 50, 16, 32, 13, 35, 38, 33, 6, 7],\n",
       " 'untreated': [40, 54, 26, 63, 21, 37, 39, 23, 48, 58, 28, 39, 42]}"
      ]
     },
     "execution_count": 41,
     "metadata": {},
     "output_type": "execute_result"
    }
   ],
   "source": [
    "## Exercise Answer\n",
    "\n",
    "#Creating empty dictionary\n",
    "data_dict = {}\n",
    "\n",
    "#Adding the Lists into dictionary\n",
    "data_dict['treated'] = [18, 43, 28, 50, 16, 32, 13, 35, 38, 33, 6, 7]\n",
    "data_dict['untreated'] = [40, 54, 26, 63, 21, 37, 39, 23, 48, 58, 28, 39, 42]\n",
    "\n",
    "data_dict"
   ]
  },
  {
   "cell_type": "markdown",
   "metadata": {},
   "source": [
    "### Exercise 10: (10 points)\n",
    "<span  style=\"color:purple; font-size:16px\">Create a function called grader() that accepts a dictionary containing student names as keys and their midterm scores as values. Returns a dictionary with the students names as keys and a dictionary containing midterm score and letter grade as values.\n",
    "\n",
    "test_scores_dict = {'Chis':88, 'Neal':56, 'Mary':72, 'Sasha':99, 'John':91, 'Mike':87, 'Kayla': 62, 'Caylee':85}\n",
    "\n",
    "Example return for first student:\n",
    "\n",
    "test_scores_return = {'Chis':{'midterm':88, 'grade':'B}}</span>"
   ]
  },
  {
   "cell_type": "code",
   "execution_count": 42,
   "metadata": {},
   "outputs": [
    {
     "data": {
      "text/plain": [
       "{'Chis': {'midterm': 88, 'grade': 'B'},\n",
       " 'Neal': {'midterm': 56, 'grade': 'Fail'},\n",
       " 'Mary': {'midterm': 72, 'grade': 'C'},\n",
       " 'Sasha': {'midterm': 99, 'grade': 'A'},\n",
       " 'John': {'midterm': 91, 'grade': 'A'},\n",
       " 'Mike': {'midterm': 87, 'grade': 'B'},\n",
       " 'Kayla': {'midterm': 62, 'grade': 'D'},\n",
       " 'Caylee': {'midterm': 85, 'grade': 'B'}}"
      ]
     },
     "execution_count": 42,
     "metadata": {},
     "output_type": "execute_result"
    }
   ],
   "source": [
    "test_scores_dict = {'Chis':88, 'Neal':56, 'Mary':72, 'Sasha':99, 'John':91, 'Mike':87, 'Kayla': 62, 'Caylee':85}\n",
    "\n",
    "# Funtion which returns a dictionary with the students names as keys and a dictionary containing midterm score and letter grade as values\n",
    "def grader(input_dict):\n",
    "    stud_grades = {}\n",
    "    \n",
    "    for x in input_dict.keys():\n",
    "        midgrades_dict = {}\n",
    "        \n",
    "        midgrades_dict['midterm'] = input_dict[x] \n",
    "        \n",
    "        # Updating grades based on midterm marks\n",
    "        if input_dict[x] >= 90:\n",
    "            midgrades_dict['grade'] = 'A'\n",
    "        elif input_dict[x] >= 80:\n",
    "            midgrades_dict['grade'] = 'B'   \n",
    "        elif input_dict[x] >= 70:\n",
    "            midgrades_dict['grade'] = 'C'\n",
    "        elif input_dict[x] >= 60:\n",
    "            midgrades_dict['grade'] ='D'\n",
    "        else:\n",
    "            midgrades_dict['grade'] = 'Fail'\n",
    "        \n",
    "        stud_grades[x] = midgrades_dict\n",
    "        \n",
    "    return stud_grades\n",
    "\n",
    "grader(test_scores_dict)"
   ]
  }
 ],
 "metadata": {
  "kernelspec": {
   "display_name": "Python 3 (ipykernel)",
   "language": "python",
   "name": "python3"
  },
  "language_info": {
   "codemirror_mode": {
    "name": "ipython",
    "version": 3
   },
   "file_extension": ".py",
   "mimetype": "text/x-python",
   "name": "python",
   "nbconvert_exporter": "python",
   "pygments_lexer": "ipython3",
   "version": "3.9.7"
  },
  "toc": {
   "base_numbering": 1,
   "nav_menu": {},
   "number_sections": false,
   "sideBar": false,
   "skip_h1_title": false,
   "title_cell": "Table of Contents",
   "title_sidebar": "Contents",
   "toc_cell": false,
   "toc_position": {},
   "toc_section_display": false,
   "toc_window_display": false
  }
 },
 "nbformat": 4,
 "nbformat_minor": 2
}
