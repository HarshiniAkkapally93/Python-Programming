{
 "cells": [
  {
   "cell_type": "markdown",
   "metadata": {},
   "source": [
    "## DATA 690 Homework 1 (10 points - Due on Sunday, September 18, 2022 by 11:00 pm ET)\n",
    "\n",
    "The output of this assignment for submission should be in PDF format **AND** .py or .ipynb. The name of the file should be as follows: Lastname_Firstname_Homework1.pdf (example: Thomas_Sunela_Homework1.pdf) **AND** Lastname_Firstname_Homework1.ipynb (example: Thomas_Sunela_Assignment1.ipynb. In short, you are submitting the python notebook as well as the pdf of that notebook. Do **NOT** submit .html file, the system will give you an error.\n",
    "\n",
    "    \n",
    "Incorrect file name will cost you points!<br>\n",
    "\n",
    "Instructions for converting a Jupyter Python notebook to PDF: Go to the menu and choose, File --> Download As --> html. Open that html file and print it to PDF. Submit the PDF file **NOT** the html file.\n",
    "\n",
    "If you are using Google Colab, remember to review the PDF before submitting to ensure that all cells and answers are displayed in the PDF.\n",
    "\n",
    "**Things to note:**\n",
    "\n",
    "* Each cell should display an output\n",
    "* Use only the basic Python concepts and methods\n",
    "* Use both Markdown and code comments in the Jupyter Notebook as needed\n"
   ]
  },
  {
   "cell_type": "markdown",
   "metadata": {},
   "source": [
    "### Problem 1\n",
    "<span  style=\"color:purple; font-size:16px\">Calculate the quantity: $7^{19}$ and assign this value to `prob_1`.</span>"
   ]
  },
  {
   "cell_type": "code",
   "execution_count": 1,
   "metadata": {},
   "outputs": [
    {
     "data": {
      "text/plain": [
       "11398895185373143"
      ]
     },
     "execution_count": 1,
     "metadata": {},
     "output_type": "execute_result"
    }
   ],
   "source": [
    "# Answer\n",
    "prob_1 = 7 ** 19\n",
    "prob_1"
   ]
  },
  {
   "cell_type": "markdown",
   "metadata": {},
   "source": [
    "### Problem 2\n",
    "<span  style=\"color:purple; font-size:16px\">Find the remainder of 745463478 divided by 234 using the modulo operator and assign this value to `prob_2`</span>"
   ]
  },
  {
   "cell_type": "code",
   "execution_count": 2,
   "metadata": {},
   "outputs": [
    {
     "data": {
      "text/plain": [
       "84"
      ]
     },
     "execution_count": 2,
     "metadata": {},
     "output_type": "execute_result"
    }
   ],
   "source": [
    "# Answer\n",
    "prob_2 = 745463478 % 234 \n",
    "prob_2"
   ]
  },
  {
   "cell_type": "markdown",
   "metadata": {},
   "source": [
    "### Problem 3\n",
    "<span  style=\"color:purple; font-size:16px\">Import the *math* library and calculate the square root of 143, round this number to 2 decimal places. Assign this value to `prob_3`</span>"
   ]
  },
  {
   "cell_type": "code",
   "execution_count": 3,
   "metadata": {},
   "outputs": [
    {
     "data": {
      "text/plain": [
       "11.96"
      ]
     },
     "execution_count": 3,
     "metadata": {},
     "output_type": "execute_result"
    }
   ],
   "source": [
    "# Answer\n",
    "import math\n",
    "prob_3 = round(math.sqrt(143),2)\n",
    "prob_3"
   ]
  },
  {
   "cell_type": "markdown",
   "metadata": {},
   "source": [
    "### Problem 4\n",
    "\n",
    "\n",
    "<span  style=\"color:purple; font-size:16px\">Determine if $56^{90}$ is bigger than $57^{89}$ using a boolean expression. Assign your answer to `prob_4`</span>"
   ]
  },
  {
   "cell_type": "code",
   "execution_count": 4,
   "metadata": {},
   "outputs": [
    {
     "data": {
      "text/plain": [
       "True"
      ]
     },
     "execution_count": 4,
     "metadata": {},
     "output_type": "execute_result"
    }
   ],
   "source": [
    "# Answer\n",
    "prob_4 = (56 ** 90) > (57 ** 89)\n",
    "prob_4"
   ]
  },
  {
   "cell_type": "markdown",
   "metadata": {},
   "source": [
    "### Problem 5\n",
    "<span  style=\"color:purple; font-size:16px\">Suppose I have 5 boolean values: `True False True True False`. What proportion of the 5 values are `True`? Use your knowledge of aritmetic with Booleans to calculate this proportion using Python. Assign your answer to `prob_5`. (Hint: add the boolean values and divide by the number of values added.)</span>"
   ]
  },
  {
   "cell_type": "code",
   "execution_count": 5,
   "metadata": {},
   "outputs": [
    {
     "data": {
      "text/plain": [
       "0.6"
      ]
     },
     "execution_count": 5,
     "metadata": {},
     "output_type": "execute_result"
    }
   ],
   "source": [
    "# Answer\n",
    "\n",
    "Prob_5 =(True + False + True + True + False)/5\n",
    "Prob_5"
   ]
  },
  {
   "cell_type": "markdown",
   "metadata": {},
   "source": [
    "Hence, 0.6 proportion of the 5 values are True (3 Trues out of 5 booleans i.e., 3/5=0.6 => (1+0+1+1+1+0)/5) "
   ]
  },
  {
   "cell_type": "markdown",
   "metadata": {},
   "source": [
    "### Problem 6\n",
    "<span  style=\"color:purple; font-size:16px\">Create a string called 'my_first_string' and set is equal to the following string: 'Once upon a time, the quick brown fox jumps over the lazy dog and they all lived happily ever after.'</span>"
   ]
  },
  {
   "cell_type": "code",
   "execution_count": 6,
   "metadata": {},
   "outputs": [
    {
     "data": {
      "text/plain": [
       "'Once upon a time, the quick brown fox jumps over the lazy dog and they all lived happily ever after.'"
      ]
     },
     "execution_count": 6,
     "metadata": {},
     "output_type": "execute_result"
    }
   ],
   "source": [
    "# Answer\n",
    "my_first_string = 'Once upon a time, the quick brown fox jumps over the lazy dog and they all lived happily ever after.'\n",
    "my_first_string"
   ]
  },
  {
   "cell_type": "code",
   "execution_count": 7,
   "metadata": {},
   "outputs": [
    {
     "name": "stdout",
     "output_type": "stream",
     "text": [
      "Once upon a time, the quick brown fox jumps over the lazy dog and they all lived happily ever after.\n"
     ]
    }
   ],
   "source": [
    "print(my_first_string)"
   ]
  },
  {
   "cell_type": "markdown",
   "metadata": {},
   "source": [
    "### Problem 7\n",
    "<span  style=\"color:purple; font-size:16px\">Determine if the letter pattern 'ne' is contained in `my_first_string`</span>"
   ]
  },
  {
   "cell_type": "code",
   "execution_count": 13,
   "metadata": {},
   "outputs": [
    {
     "name": "stdout",
     "output_type": "stream",
     "text": [
      "Once upon a time, the quick brown fox jumps over the lazy dog and they all lived happily ever after.\n"
     ]
    }
   ],
   "source": [
    "print(my_first_string)"
   ]
  },
  {
   "cell_type": "code",
   "execution_count": 8,
   "metadata": {},
   "outputs": [
    {
     "data": {
      "text/plain": [
       "False"
      ]
     },
     "execution_count": 8,
     "metadata": {},
     "output_type": "execute_result"
    }
   ],
   "source": [
    "# Answer\n",
    "'ne' in my_first_string"
   ]
  },
  {
   "cell_type": "markdown",
   "metadata": {},
   "source": [
    "'ne' pattern is not present in my_first_string"
   ]
  },
  {
   "cell_type": "markdown",
   "metadata": {},
   "source": [
    "### Problem 8\n",
    "<span  style=\"color:purple; font-size:16px\">Determine which position the 'z' in `my_first_string`</span>"
   ]
  },
  {
   "cell_type": "code",
   "execution_count": 14,
   "metadata": {},
   "outputs": [
    {
     "name": "stdout",
     "output_type": "stream",
     "text": [
      "Once upon a time, the quick brown fox jumps over the lazy dog and they all lived happily ever after.\n"
     ]
    }
   ],
   "source": [
    "print(my_first_string)"
   ]
  },
  {
   "cell_type": "code",
   "execution_count": 9,
   "metadata": {},
   "outputs": [
    {
     "data": {
      "text/plain": [
       "55"
      ]
     },
     "execution_count": 9,
     "metadata": {},
     "output_type": "execute_result"
    }
   ],
   "source": [
    "# Answer\n",
    "my_first_string.find('z')"
   ]
  },
  {
   "cell_type": "markdown",
   "metadata": {},
   "source": [
    "z is present in the 55 position"
   ]
  },
  {
   "cell_type": "markdown",
   "metadata": {},
   "source": [
    "### Problem 9\n",
    "<span  style=\"color:purple; font-size:16px\">Replace all instances of 'o' in ```my_first_string``` with '[:(&)]' then replace all instances of 'e' with 'zzz', replace all periods with exclamation points, and make the entire string uppercase. Assign the resulting string to `prob_9`</span>"
   ]
  },
  {
   "cell_type": "code",
   "execution_count": 15,
   "metadata": {},
   "outputs": [
    {
     "name": "stdout",
     "output_type": "stream",
     "text": [
      "Once upon a time, the quick brown fox jumps over the lazy dog and they all lived happily ever after.\n"
     ]
    }
   ],
   "source": [
    "print(my_first_string)"
   ]
  },
  {
   "cell_type": "code",
   "execution_count": 10,
   "metadata": {},
   "outputs": [
    {
     "data": {
      "text/plain": [
       "'ONCZZZ UP[:(&)]N A TIMZZZ, THZZZ QUICK BR[:(&)]WN F[:(&)]X JUMPS [:(&)]VZZZR THZZZ LAZY D[:(&)]G AND THZZZY ALL LIVZZZD HAPPILY ZZZVZZZR AFTZZZR!'"
      ]
     },
     "execution_count": 10,
     "metadata": {},
     "output_type": "execute_result"
    }
   ],
   "source": [
    "# Answer\n",
    "prob_9 = (my_first_string.replace('o','[:(&)]').replace('e','zzz').replace('.','!')).upper()\n",
    "prob_9"
   ]
  },
  {
   "cell_type": "code",
   "execution_count": null,
   "metadata": {},
   "outputs": [],
   "source": [
    "#If capital'O' should also be replaced"
   ]
  },
  {
   "cell_type": "code",
   "execution_count": 17,
   "metadata": {},
   "outputs": [
    {
     "data": {
      "text/plain": [
       "'[:(&)]NCZZZ UP[:(&)]N A TIMZZZ, THZZZ QUICK BR[:(&)]WN F[:(&)]X JUMPS [:(&)]VZZZR THZZZ LAZY D[:(&)]G AND THZZZY ALL LIVZZZD HAPPILY ZZZVZZZR AFTZZZR!'"
      ]
     },
     "execution_count": 17,
     "metadata": {},
     "output_type": "execute_result"
    }
   ],
   "source": [
    "prob_9 = (my_first_string.replace('O','[:(&)]').replace('o','[:(&)]').replace('e','zzz').replace('.','!')).upper()\n",
    "prob_9"
   ]
  },
  {
   "cell_type": "markdown",
   "metadata": {},
   "source": [
    "### Problem 10\n",
    "<span  style=\"color:purple; font-size:16px\">Create an extra long string by adding `prob_9` to the string 'I love UMBC!' with no space between the two strings. Assign the answer to `prob_10`.</span>\n",
    "\n"
   ]
  },
  {
   "cell_type": "code",
   "execution_count": 19,
   "metadata": {},
   "outputs": [
    {
     "data": {
      "text/plain": [
       "'I love UMBC![:(&)]NCZZZ UP[:(&)]N A TIMZZZ, THZZZ QUICK BR[:(&)]WN F[:(&)]X JUMPS [:(&)]VZZZR THZZZ LAZY D[:(&)]G AND THZZZY ALL LIVZZZD HAPPILY ZZZVZZZR AFTZZZR!'"
      ]
     },
     "execution_count": 19,
     "metadata": {},
     "output_type": "execute_result"
    }
   ],
   "source": [
    "# Answer\n",
    "prob_10 = 'I love UMBC!' + prob_9\n",
    "prob_10"
   ]
  },
  {
   "cell_type": "markdown",
   "metadata": {},
   "source": [
    "### Problem 11\n",
    "<span  style=\"color:purple; font-size:16px\">Find the length of `prob_10` without counting and assign this value to `prob_11`.</span>"
   ]
  },
  {
   "cell_type": "code",
   "execution_count": 12,
   "metadata": {},
   "outputs": [
    {
     "data": {
      "text/plain": [
       "157"
      ]
     },
     "execution_count": 12,
     "metadata": {},
     "output_type": "execute_result"
    }
   ],
   "source": [
    "# Answer\n",
    "prob_11 = len(prob_10)\n",
    "prob_11"
   ]
  },
  {
   "cell_type": "markdown",
   "metadata": {},
   "source": [
    "Length of prob_10 is 157"
   ]
  },
  {
   "cell_type": "code",
   "execution_count": null,
   "metadata": {},
   "outputs": [],
   "source": []
  }
 ],
 "metadata": {
  "kernelspec": {
   "display_name": "Python 3 (ipykernel)",
   "language": "python",
   "name": "python3"
  },
  "language_info": {
   "codemirror_mode": {
    "name": "ipython",
    "version": 3
   },
   "file_extension": ".py",
   "mimetype": "text/x-python",
   "name": "python",
   "nbconvert_exporter": "python",
   "pygments_lexer": "ipython3",
   "version": "3.9.7"
  },
  "toc": {
   "base_numbering": 1,
   "nav_menu": {},
   "number_sections": false,
   "sideBar": false,
   "skip_h1_title": false,
   "title_cell": "Table of Contents",
   "title_sidebar": "Contents",
   "toc_cell": false,
   "toc_position": {},
   "toc_section_display": false,
   "toc_window_display": false
  }
 },
 "nbformat": 4,
 "nbformat_minor": 2
}
